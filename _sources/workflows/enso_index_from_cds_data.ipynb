{
 "cells": [
  {
   "cell_type": "markdown",
   "id": "81542dc0-a30e-49c3-915d-a4ef49d56970",
   "metadata": {},
   "source": [
    "![logo](../LogoLine_horizon_C3S.png)"
   ]
  },
  {
   "cell_type": "markdown",
   "id": "bb2d28f3-8c26-4a6a-8fb5-bfba9f7343a9",
   "metadata": {},
   "source": [
    "# Deriving the ENSO indices used in graphical products from CDS data"
   ]
  },
  {
   "cell_type": "markdown",
   "id": "9ddd9558-3e9a-4546-809b-83d74608342e",
   "metadata": {},
   "source": [
    "In this example we how to compute the El Niño–Southern Oscillation (ENSO) indices used in [C3S seasonal graphical products](https://climate.copernicus.eu/charts/packages/c3s_seasonal/), from SST data retrieved from the CDS. \n",
    "\n",
    "This is shown for one seasonal forecast system, but can be repeated to provide input for a further example on computing the correlation heatmaps displayed for the SST indices on the [verification page](https://confluence.ecmwf.int/display/CKB/C3S+seasonal+forecasts+verification+plots) associated with the graphical products."
   ]
  },
  {
   "cell_type": "code",
   "execution_count": null,
   "id": "6519cb80-b066-4a8f-93ed-b3195899cc13",
   "metadata": {},
   "outputs": [],
   "source": []
  },
  {
   "cell_type": "code",
   "execution_count": null,
   "id": "a863c5d7-6105-4978-9681-2353d173d62c",
   "metadata": {},
   "outputs": [],
   "source": []
  },
  {
   "cell_type": "code",
   "execution_count": null,
   "id": "5775cb07-0390-49d2-a0f0-35146dc4228e",
   "metadata": {},
   "outputs": [],
   "source": []
  },
  {
   "cell_type": "code",
   "execution_count": null,
   "id": "9b625e71-a802-44af-92ad-3b546e475a86",
   "metadata": {},
   "outputs": [],
   "source": []
  },
  {
   "cell_type": "code",
   "execution_count": null,
   "id": "a7d61e74-3c57-4cd2-86ac-af46c8c60982",
   "metadata": {},
   "outputs": [],
   "source": []
  },
  {
   "cell_type": "code",
   "execution_count": null,
   "id": "c4c59750-815d-4cae-942d-c6949cc35818",
   "metadata": {},
   "outputs": [],
   "source": []
  },
  {
   "cell_type": "code",
   "execution_count": null,
   "id": "f71579eb-b579-4b4f-ae62-4464fba9f883",
   "metadata": {},
   "outputs": [],
   "source": []
  },
  {
   "cell_type": "code",
   "execution_count": null,
   "id": "9f09f26c-e0e0-4d81-ac73-aa8aa3720f6e",
   "metadata": {},
   "outputs": [],
   "source": []
  },
  {
   "cell_type": "code",
   "execution_count": null,
   "id": "c404d367-2eb9-4891-877f-bfcf0ed308c5",
   "metadata": {},
   "outputs": [],
   "source": []
  },
  {
   "cell_type": "markdown",
   "id": "703fd2fb-dc54-4db7-981b-b44f411923ad",
   "metadata": {},
   "source": [
    "Finally, some information on ENSO impacts in Europe can be found on [a page in the C3S documentation](https://confluence.ecmwf.int/display/COPSRV/ENSO+impacts+on+Europe)."
   ]
  }
 ],
 "metadata": {
  "kernelspec": {
   "display_name": "Python 3.11.10-01",
   "language": "python",
   "name": "python3"
  },
  "language_info": {
   "codemirror_mode": {
    "name": "ipython",
    "version": 3
   },
   "file_extension": ".py",
   "mimetype": "text/x-python",
   "name": "python",
   "nbconvert_exporter": "python",
   "pygments_lexer": "ipython3",
   "version": "3.11.10"
  }
 },
 "nbformat": 4,
 "nbformat_minor": 5
}
