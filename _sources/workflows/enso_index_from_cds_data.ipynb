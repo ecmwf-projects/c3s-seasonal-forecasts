{
 "cells": [
  {
   "cell_type": "markdown",
   "id": "81542dc0-a30e-49c3-915d-a4ef49d56970",
   "metadata": {},
   "source": [
    "![logo](../LogoLine_horizon_C3S.png)"
   ]
  },
  {
   "cell_type": "markdown",
   "id": "bb2d28f3-8c26-4a6a-8fb5-bfba9f7343a9",
   "metadata": {},
   "source": [
    "# Deriving the ENSO indices used in graphical products from CDS data"
   ]
  },
  {
   "cell_type": "markdown",
   "id": "9ddd9558-3e9a-4546-809b-83d74608342e",
   "metadata": {},
   "source": [
    "In this example we how to compute the EN"
   ]
  }
 ],
 "metadata": {
  "kernelspec": {
   "display_name": "Python 3.11.10-01",
   "language": "python",
   "name": "python3"
  },
  "language_info": {
   "codemirror_mode": {
    "name": "ipython",
    "version": 3
   },
   "file_extension": ".py",
   "mimetype": "text/x-python",
   "name": "python",
   "nbconvert_exporter": "python",
   "pygments_lexer": "ipython3",
   "version": "3.11.10"
  }
 },
 "nbformat": 4,
 "nbformat_minor": 5
}
