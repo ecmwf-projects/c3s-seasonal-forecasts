{
 "cells": [
  {
   "cell_type": "markdown",
   "id": "81542dc0-a30e-49c3-915d-a4ef49d56970",
   "metadata": {},
   "source": [
    "![logo](../LogoLine_horizon_C3S.png)"
   ]
  },
  {
   "cell_type": "markdown",
   "id": "bb2d28f3-8c26-4a6a-8fb5-bfba9f7343a9",
   "metadata": {},
   "source": [
    "# Deriving the ENSO indices used in graphical products from CDS data"
   ]
  },
  {
   "cell_type": "markdown",
   "id": "9ddd9558-3e9a-4546-809b-83d74608342e",
   "metadata": {},
   "source": [
    "In this example we how to compute the El Niño–Southern Oscillation (ENSO) indices used in [C3S seasonal graphical products](https://climate.copernicus.eu/charts/packages/c3s_seasonal/), from SST data retrieved from the CDS. \n",
    "\n",
    "This is shown for one seasonal forecast system, but can be repeated to provide input for a further example on computing the correlation heatmaps displayed for the SST indices on the [verification page](https://confluence.ecmwf.int/display/CKB/C3S+seasonal+forecasts+verification+plots) associated with the graphical products.\n",
    "\n",
    "1. [Configuration](#configuration)\n",
    "2. [CDS API requests](#cds-api-requests)\n",
    "3. [Define ENSO regions](#define-enso-regions)\n",
    "4. [Compute indices](#compute-indices)\n"
   ]
  },
  {
   "cell_type": "markdown",
   "id": "1ebac330-3f3b-4597-a7e8-b52553c40912",
   "metadata": {},
   "source": [
    "## Configuration"
   ]
  },
  {
   "cell_type": "code",
   "execution_count": null,
   "id": "a863c5d7-6105-4978-9681-2353d173d62c",
   "metadata": {},
   "outputs": [],
   "source": []
  },
  {
   "cell_type": "markdown",
   "id": "ba92ea64-e44b-4687-9723-5a907ba48587",
   "metadata": {},
   "source": [
    "## CDS API request"
   ]
  },
  {
   "cell_type": "code",
   "execution_count": null,
   "id": "9b625e71-a802-44af-92ad-3b546e475a86",
   "metadata": {},
   "outputs": [],
   "source": []
  },
  {
   "cell_type": "markdown",
   "id": "1e63c3b9-b272-451c-8d6b-f25f592fc8d2",
   "metadata": {},
   "source": [
    "## Define ENSO regions"
   ]
  },
  {
   "cell_type": "code",
   "execution_count": null,
   "id": "c4c59750-815d-4cae-942d-c6949cc35818",
   "metadata": {},
   "outputs": [],
   "source": []
  },
  {
   "cell_type": "markdown",
   "id": "ad4f3b3d-4c8c-40f4-a878-cd0a52394700",
   "metadata": {},
   "source": [
    "## Compute indices"
   ]
  },
  {
   "cell_type": "code",
   "execution_count": null,
   "id": "9f09f26c-e0e0-4d81-ac73-aa8aa3720f6e",
   "metadata": {},
   "outputs": [],
   "source": []
  },
  {
   "cell_type": "code",
   "execution_count": null,
   "id": "c404d367-2eb9-4891-877f-bfcf0ed308c5",
   "metadata": {},
   "outputs": [],
   "source": []
  },
  {
   "cell_type": "markdown",
   "id": "703fd2fb-dc54-4db7-981b-b44f411923ad",
   "metadata": {},
   "source": [
    "Finally, some information on ENSO impacts in Europe can be found on [a page in the C3S documentation](https://confluence.ecmwf.int/display/COPSRV/ENSO+impacts+on+Europe)."
   ]
  }
 ],
 "metadata": {
  "kernelspec": {
   "display_name": "Python 3.11.10-01",
   "language": "python",
   "name": "python3"
  },
  "language_info": {
   "codemirror_mode": {
    "name": "ipython",
    "version": 3
   },
   "file_extension": ".py",
   "mimetype": "text/x-python",
   "name": "python",
   "nbconvert_exporter": "python",
   "pygments_lexer": "ipython3",
   "version": "3.11.10"
  }
 },
 "nbformat": 4,
 "nbformat_minor": 5
}
