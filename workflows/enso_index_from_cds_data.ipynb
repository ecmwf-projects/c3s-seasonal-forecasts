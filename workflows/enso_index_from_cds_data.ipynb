{
 "cells": [
  {
   "cell_type": "markdown",
   "id": "bb2d28f3-8c26-4a6a-8fb5-bfba9f7343a9",
   "metadata": {},
   "source": [
    "# Deriving the ENSO indices used in graphical products from CDS data"
   ]
  },
  {
   "cell_type": "code",
   "execution_count": null,
   "id": "ab5411fa-146a-4e6b-bd51-ce1af64933c0",
   "metadata": {},
   "outputs": [],
   "source": []
  }
 ],
 "metadata": {
  "kernelspec": {
   "display_name": "Python 3.11.8-01",
   "language": "python",
   "name": "python3"
  },
  "language_info": {
   "codemirror_mode": {
    "name": "ipython",
    "version": 3
   },
   "file_extension": ".py",
   "mimetype": "text/x-python",
   "name": "python",
   "nbconvert_exporter": "python",
   "pygments_lexer": "ipython3",
   "version": "3.11.8"
  }
 },
 "nbformat": 4,
 "nbformat_minor": 5
}
